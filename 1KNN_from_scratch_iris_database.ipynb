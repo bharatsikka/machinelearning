{
 "cells": [
  {
   "cell_type": "code",
   "execution_count": 161,
   "metadata": {},
   "outputs": [],
   "source": [
    "from sklearn.datasets import load_iris\n",
    "iris = load_iris()\n",
    "import numpy as np"
   ]
  },
  {
   "cell_type": "code",
   "execution_count": 162,
   "metadata": {},
   "outputs": [],
   "source": [
    "from sklearn.model_selection import train_test_split"
   ]
  },
  {
   "cell_type": "code",
   "execution_count": 163,
   "metadata": {},
   "outputs": [],
   "source": [
    "x_train, x_test, y_train, y_test = train_test_split(iris['data'],iris['target'],random_state=0)"
   ]
  },
  {
   "cell_type": "code",
   "execution_count": 164,
   "metadata": {},
   "outputs": [],
   "source": [
    "import operator\n",
    "import math"
   ]
  },
  {
   "cell_type": "code",
   "execution_count": 165,
   "metadata": {},
   "outputs": [
    {
     "name": "stdout",
     "output_type": "stream",
     "text": [
      "0.02631578947368421\n"
     ]
    }
   ],
   "source": [
    "def eud(test, train):\n",
    "    distance = 0\n",
    "    new = np.sum(np.square(np.subtract(test,train)))\n",
    "    new1 = np.sqrt(new)\n",
    "    return new1\n",
    "def minimum(s):\n",
    "    x = math.inf\n",
    "    t=0\n",
    "    for i in range(0,len(s)):\n",
    "        if x > s[i]:\n",
    "            x = s[i]\n",
    "            t = i\n",
    "    return [x,t]\n",
    "\n",
    "def knn(train, test):\n",
    "    out = []\n",
    "    distances = []\n",
    "    for i in range(len(test)):\n",
    "        temp=[]\n",
    "        for j in range(len(train)):\n",
    "            dist = eud(test[i],train[j])\n",
    "            temp.append(dist)\n",
    "        distances.append(minimum(temp))\n",
    "    res = []\n",
    "    for k in range(len(distances)):    \n",
    "        out.append(distances[k][1])\n",
    "    for tt in range(len(out)):\n",
    "        res.append(y_train[out[tt]])\n",
    "    print(np.mean(y_test!=res))\n",
    "    \n",
    "knn(x_train,x_test)"
   ]
  },
  {
   "cell_type": "code",
   "execution_count": 166,
   "metadata": {},
   "outputs": [
    {
     "name": "stdout",
     "output_type": "stream",
     "text": [
      "0.14772727272727273\n"
     ]
    }
   ],
   "source": [
    "import numpy as np\n",
    "from sklearn.model_selection import train_test_split\n",
    "X = np.genfromtxt(\"C:/Users/bhara/OneDrive/Desktop/ml/ionosphere/ionosphere.txt\", delimiter=\",\", usecols=np.arange(34))\n",
    "y = np.genfromtxt(\"C:/Users/bhara/OneDrive/Desktop/ml/ionosphere/ionosphere.txt\", delimiter=\",\",usecols=34, dtype='int')\n",
    "x_train, x_test, y_train, y_test = train_test_split(X,y,random_state=0)\n",
    "knn(x_train,x_test)\n"
   ]
  },
  {
   "cell_type": "code",
   "execution_count": null,
   "metadata": {},
   "outputs": [],
   "source": []
  },
  {
   "cell_type": "code",
   "execution_count": null,
   "metadata": {},
   "outputs": [],
   "source": []
  }
 ],
 "metadata": {
  "kernelspec": {
   "display_name": "Python 3",
   "language": "python",
   "name": "python3"
  },
  "language_info": {
   "codemirror_mode": {
    "name": "ipython",
    "version": 3
   },
   "file_extension": ".py",
   "mimetype": "text/x-python",
   "name": "python",
   "nbconvert_exporter": "python",
   "pygments_lexer": "ipython3",
   "version": "3.7.0"
  }
 },
 "nbformat": 4,
 "nbformat_minor": 2
}
